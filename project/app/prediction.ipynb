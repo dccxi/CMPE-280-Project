{
 "cells": [
  {
   "cell_type": "code",
   "execution_count": 39,
   "metadata": {},
   "outputs": [],
   "source": [
    "import pandas as pd\n",
    "import numpy as np\n",
    "from sklearn import model_selection\n",
    "from sklearn.linear_model import LinearRegression\n",
    "import pickle"
   ]
  },
  {
   "cell_type": "code",
   "execution_count": 7,
   "metadata": {},
   "outputs": [],
   "source": [
    "df = pd.read_csv('./Admission_Predict_Ver1.1.csv',usecols=['GRE Score', 'TOEFL Score', 'Chance of Admit'])"
   ]
  },
  {
   "cell_type": "code",
   "execution_count": 12,
   "metadata": {},
   "outputs": [],
   "source": [
    "df.columns = ['gre', 'toefl', 'chance']"
   ]
  },
  {
   "cell_type": "code",
   "execution_count": 13,
   "metadata": {},
   "outputs": [
    {
     "data": {
      "text/html": [
       "<div>\n",
       "<style scoped>\n",
       "    .dataframe tbody tr th:only-of-type {\n",
       "        vertical-align: middle;\n",
       "    }\n",
       "\n",
       "    .dataframe tbody tr th {\n",
       "        vertical-align: top;\n",
       "    }\n",
       "\n",
       "    .dataframe thead th {\n",
       "        text-align: right;\n",
       "    }\n",
       "</style>\n",
       "<table border=\"1\" class=\"dataframe\">\n",
       "  <thead>\n",
       "    <tr style=\"text-align: right;\">\n",
       "      <th></th>\n",
       "      <th>gre</th>\n",
       "      <th>toefl</th>\n",
       "      <th>chance</th>\n",
       "    </tr>\n",
       "  </thead>\n",
       "  <tbody>\n",
       "    <tr>\n",
       "      <th>0</th>\n",
       "      <td>337</td>\n",
       "      <td>118</td>\n",
       "      <td>0.92</td>\n",
       "    </tr>\n",
       "    <tr>\n",
       "      <th>1</th>\n",
       "      <td>324</td>\n",
       "      <td>107</td>\n",
       "      <td>0.76</td>\n",
       "    </tr>\n",
       "    <tr>\n",
       "      <th>2</th>\n",
       "      <td>316</td>\n",
       "      <td>104</td>\n",
       "      <td>0.72</td>\n",
       "    </tr>\n",
       "    <tr>\n",
       "      <th>3</th>\n",
       "      <td>322</td>\n",
       "      <td>110</td>\n",
       "      <td>0.80</td>\n",
       "    </tr>\n",
       "    <tr>\n",
       "      <th>4</th>\n",
       "      <td>314</td>\n",
       "      <td>103</td>\n",
       "      <td>0.65</td>\n",
       "    </tr>\n",
       "  </tbody>\n",
       "</table>\n",
       "</div>"
      ],
      "text/plain": [
       "   gre  toefl  chance\n",
       "0  337    118    0.92\n",
       "1  324    107    0.76\n",
       "2  316    104    0.72\n",
       "3  322    110    0.80\n",
       "4  314    103    0.65"
      ]
     },
     "execution_count": 13,
     "metadata": {},
     "output_type": "execute_result"
    }
   ],
   "source": [
    "df.head()"
   ]
  },
  {
   "cell_type": "code",
   "execution_count": 17,
   "metadata": {},
   "outputs": [],
   "source": [
    "X = df[['gre', 'toefl']]\n",
    "y = df['chance']"
   ]
  },
  {
   "cell_type": "code",
   "execution_count": 22,
   "metadata": {},
   "outputs": [],
   "source": [
    "X_train, X_test, y_train, y_test = model_selection.train_test_split(\n",
    "    X, y, test_size=.1, random_state=7)"
   ]
  },
  {
   "cell_type": "code",
   "execution_count": 49,
   "metadata": {},
   "outputs": [],
   "source": [
    "model = LinearRegression().fit(X, y)"
   ]
  },
  {
   "cell_type": "code",
   "execution_count": 54,
   "metadata": {},
   "outputs": [
    {
     "data": {
      "text/plain": [
       "b'\\x80\\x03csklearn.linear_model.base\\nLinearRegression\\nq\\x00)\\x81q\\x01}q\\x02(X\\r\\x00\\x00\\x00fit_interceptq\\x03\\x88X\\t\\x00\\x00\\x00normalizeq\\x04\\x89X\\x06\\x00\\x00\\x00copy_Xq\\x05\\x88X\\x06\\x00\\x00\\x00n_jobsq\\x06NX\\x05\\x00\\x00\\x00coef_q\\x07cnumpy.core.multiarray\\n_reconstruct\\nq\\x08cnumpy\\nndarray\\nq\\tK\\x00\\x85q\\nC\\x01bq\\x0b\\x87q\\x0cRq\\r(K\\x01K\\x02\\x85q\\x0ecnumpy\\ndtype\\nq\\x0fX\\x02\\x00\\x00\\x00f8q\\x10K\\x00K\\x01\\x87q\\x11Rq\\x12(K\\x03X\\x01\\x00\\x00\\x00<q\\x13NNNJ\\xff\\xff\\xff\\xffJ\\xff\\xff\\xff\\xffK\\x00tq\\x14b\\x89C\\x109\\xf1\\xc8\\x8f\\r!y?\\x14\\xee;p\\x9eY\\x82?q\\x15tq\\x16bX\\t\\x00\\x00\\x00_residuesq\\x17cnumpy.core.multiarray\\nscalar\\nq\\x18h\\x12C\\x08\\xfe\\xd8\\x9b\\xb8U\\x8f\\x07@q\\x19\\x86q\\x1aRq\\x1bX\\x05\\x00\\x00\\x00rank_q\\x1cK\\x02X\\t\\x00\\x00\\x00singular_q\\x1dh\\x08h\\tK\\x00\\x85q\\x1eh\\x0b\\x87q\\x1fRq (K\\x01K\\x02\\x85q!h\\x12\\x89C\\x10#\\xc7l*\\x17aq@\\x8d\\xc7O\\x0bAQQ@q\"tq#bX\\n\\x00\\x00\\x00intercept_q$h\\x18h\\x12C\\x08\\x90\\xafV\\x1d0q\\x01\\xc0q%\\x86q&Rq\\'X\\x10\\x00\\x00\\x00_sklearn_versionq(X\\x06\\x00\\x00\\x000.20.0q)ub.'"
      ]
     },
     "execution_count": 54,
     "metadata": {},
     "output_type": "execute_result"
    }
   ],
   "source": [
    "pickle.dumps(model)"
   ]
  }
 ],
 "metadata": {
  "kernelspec": {
   "display_name": "Python 3",
   "language": "python",
   "name": "python3"
  },
  "language_info": {
   "codemirror_mode": {
    "name": "ipython",
    "version": 3
   },
   "file_extension": ".py",
   "mimetype": "text/x-python",
   "name": "python",
   "nbconvert_exporter": "python",
   "pygments_lexer": "ipython3",
   "version": "3.7.2"
  }
 },
 "nbformat": 4,
 "nbformat_minor": 2
}
